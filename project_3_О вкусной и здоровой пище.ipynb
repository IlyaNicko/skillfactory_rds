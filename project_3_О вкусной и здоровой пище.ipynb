{
 "cells": [
  {
   "cell_type": "code",
   "execution_count": 1,
   "metadata": {},
   "outputs": [
    {
     "name": "stdout",
     "output_type": "stream",
     "text": [
      "<class 'pandas.core.frame.DataFrame'>\n",
      "RangeIndex: 40000 entries, 0 to 39999\n",
      "Data columns (total 10 columns):\n",
      " #   Column             Non-Null Count  Dtype  \n",
      "---  ------             --------------  -----  \n",
      " 0   Restaurant_id      40000 non-null  object \n",
      " 1   City               40000 non-null  object \n",
      " 2   Cuisine Style      30717 non-null  object \n",
      " 3   Ranking            40000 non-null  float64\n",
      " 4   Rating             40000 non-null  float64\n",
      " 5   Price Range        26114 non-null  object \n",
      " 6   Number of Reviews  37457 non-null  float64\n",
      " 7   Reviews            40000 non-null  object \n",
      " 8   URL_TA             40000 non-null  object \n",
      " 9   ID_TA              40000 non-null  object \n",
      "dtypes: float64(3), object(7)\n",
      "memory usage: 3.1+ MB\n"
     ]
    }
   ],
   "source": [
    "import pandas as pd\n",
    "import numpy as np\n",
    "import matplotlib.pyplot as plt\n",
    "import seaborn as sns \n",
    "%matplotlib inline\n",
    "df = pd.read_csv('main_task.xls')\n",
    "df.isna().sum()\n",
    "df.info()"
   ]
  },
  {
   "cell_type": "code",
   "execution_count": 2,
   "metadata": {},
   "outputs": [
    {
     "data": {
      "text/html": [
       "<div>\n",
       "<style scoped>\n",
       "    .dataframe tbody tr th:only-of-type {\n",
       "        vertical-align: middle;\n",
       "    }\n",
       "\n",
       "    .dataframe tbody tr th {\n",
       "        vertical-align: top;\n",
       "    }\n",
       "\n",
       "    .dataframe thead th {\n",
       "        text-align: right;\n",
       "    }\n",
       "</style>\n",
       "<table border=\"1\" class=\"dataframe\">\n",
       "  <thead>\n",
       "    <tr style=\"text-align: right;\">\n",
       "      <th></th>\n",
       "      <th>Restaurant_id</th>\n",
       "      <th>City</th>\n",
       "      <th>Cuisine Style</th>\n",
       "      <th>Ranking</th>\n",
       "      <th>Rating</th>\n",
       "      <th>Price Range</th>\n",
       "      <th>Number of Reviews</th>\n",
       "      <th>Reviews</th>\n",
       "      <th>URL_TA</th>\n",
       "      <th>ID_TA</th>\n",
       "    </tr>\n",
       "  </thead>\n",
       "  <tbody>\n",
       "    <tr>\n",
       "      <th>0</th>\n",
       "      <td>id_5569</td>\n",
       "      <td>Paris</td>\n",
       "      <td>['European', 'French', 'International']</td>\n",
       "      <td>5570.0</td>\n",
       "      <td>3.5</td>\n",
       "      <td>$$ - $$$</td>\n",
       "      <td>194.0</td>\n",
       "      <td>[['Good food at your doorstep', 'A good hotel ...</td>\n",
       "      <td>/Restaurant_Review-g187147-d1912643-Reviews-R_...</td>\n",
       "      <td>d1912643</td>\n",
       "    </tr>\n",
       "    <tr>\n",
       "      <th>1</th>\n",
       "      <td>id_1535</td>\n",
       "      <td>Stockholm</td>\n",
       "      <td>NaN</td>\n",
       "      <td>1537.0</td>\n",
       "      <td>4.0</td>\n",
       "      <td>NaN</td>\n",
       "      <td>10.0</td>\n",
       "      <td>[['Unique cuisine', 'Delicious Nepalese food']...</td>\n",
       "      <td>/Restaurant_Review-g189852-d7992032-Reviews-Bu...</td>\n",
       "      <td>d7992032</td>\n",
       "    </tr>\n",
       "    <tr>\n",
       "      <th>2</th>\n",
       "      <td>id_352</td>\n",
       "      <td>London</td>\n",
       "      <td>['Japanese', 'Sushi', 'Asian', 'Grill', 'Veget...</td>\n",
       "      <td>353.0</td>\n",
       "      <td>4.5</td>\n",
       "      <td>$$$$</td>\n",
       "      <td>688.0</td>\n",
       "      <td>[['Catch up with friends', 'Not exceptional'],...</td>\n",
       "      <td>/Restaurant_Review-g186338-d8632781-Reviews-RO...</td>\n",
       "      <td>d8632781</td>\n",
       "    </tr>\n",
       "    <tr>\n",
       "      <th>3</th>\n",
       "      <td>id_3456</td>\n",
       "      <td>Berlin</td>\n",
       "      <td>NaN</td>\n",
       "      <td>3458.0</td>\n",
       "      <td>5.0</td>\n",
       "      <td>NaN</td>\n",
       "      <td>3.0</td>\n",
       "      <td>[[], []]</td>\n",
       "      <td>/Restaurant_Review-g187323-d1358776-Reviews-Es...</td>\n",
       "      <td>d1358776</td>\n",
       "    </tr>\n",
       "    <tr>\n",
       "      <th>4</th>\n",
       "      <td>id_615</td>\n",
       "      <td>Munich</td>\n",
       "      <td>['German', 'Central European', 'Vegetarian Fri...</td>\n",
       "      <td>621.0</td>\n",
       "      <td>4.0</td>\n",
       "      <td>$$ - $$$</td>\n",
       "      <td>84.0</td>\n",
       "      <td>[['Best place to try a Bavarian food', 'Nice b...</td>\n",
       "      <td>/Restaurant_Review-g187309-d6864963-Reviews-Au...</td>\n",
       "      <td>d6864963</td>\n",
       "    </tr>\n",
       "  </tbody>\n",
       "</table>\n",
       "</div>"
      ],
      "text/plain": [
       "  Restaurant_id       City                                      Cuisine Style  \\\n",
       "0       id_5569      Paris            ['European', 'French', 'International']   \n",
       "1       id_1535  Stockholm                                                NaN   \n",
       "2        id_352     London  ['Japanese', 'Sushi', 'Asian', 'Grill', 'Veget...   \n",
       "3       id_3456     Berlin                                                NaN   \n",
       "4        id_615     Munich  ['German', 'Central European', 'Vegetarian Fri...   \n",
       "\n",
       "   Ranking  Rating Price Range  Number of Reviews  \\\n",
       "0   5570.0     3.5    $$ - $$$              194.0   \n",
       "1   1537.0     4.0         NaN               10.0   \n",
       "2    353.0     4.5        $$$$              688.0   \n",
       "3   3458.0     5.0         NaN                3.0   \n",
       "4    621.0     4.0    $$ - $$$               84.0   \n",
       "\n",
       "                                             Reviews  \\\n",
       "0  [['Good food at your doorstep', 'A good hotel ...   \n",
       "1  [['Unique cuisine', 'Delicious Nepalese food']...   \n",
       "2  [['Catch up with friends', 'Not exceptional'],...   \n",
       "3                                           [[], []]   \n",
       "4  [['Best place to try a Bavarian food', 'Nice b...   \n",
       "\n",
       "                                              URL_TA     ID_TA  \n",
       "0  /Restaurant_Review-g187147-d1912643-Reviews-R_...  d1912643  \n",
       "1  /Restaurant_Review-g189852-d7992032-Reviews-Bu...  d7992032  \n",
       "2  /Restaurant_Review-g186338-d8632781-Reviews-RO...  d8632781  \n",
       "3  /Restaurant_Review-g187323-d1358776-Reviews-Es...  d1358776  \n",
       "4  /Restaurant_Review-g187309-d6864963-Reviews-Au...  d6864963  "
      ]
     },
     "execution_count": 2,
     "metadata": {},
     "output_type": "execute_result"
    }
   ],
   "source": [
    "df.head()"
   ]
  },
  {
   "cell_type": "code",
   "execution_count": 3,
   "metadata": {},
   "outputs": [
    {
     "data": {
      "text/html": [
       "<div>\n",
       "<style scoped>\n",
       "    .dataframe tbody tr th:only-of-type {\n",
       "        vertical-align: middle;\n",
       "    }\n",
       "\n",
       "    .dataframe tbody tr th {\n",
       "        vertical-align: top;\n",
       "    }\n",
       "\n",
       "    .dataframe thead th {\n",
       "        text-align: right;\n",
       "    }\n",
       "</style>\n",
       "<table border=\"1\" class=\"dataframe\">\n",
       "  <thead>\n",
       "    <tr style=\"text-align: right;\">\n",
       "      <th></th>\n",
       "      <th>Restaurant_id</th>\n",
       "      <th>City</th>\n",
       "      <th>Cuisine Style</th>\n",
       "      <th>Ranking</th>\n",
       "      <th>Rating</th>\n",
       "      <th>Price Range</th>\n",
       "      <th>Number of Reviews</th>\n",
       "      <th>Reviews</th>\n",
       "    </tr>\n",
       "  </thead>\n",
       "  <tbody>\n",
       "    <tr>\n",
       "      <th>0</th>\n",
       "      <td>id_5569</td>\n",
       "      <td>Paris</td>\n",
       "      <td>['European', 'French', 'International']</td>\n",
       "      <td>5570.0</td>\n",
       "      <td>3.5</td>\n",
       "      <td>$$ - $$$</td>\n",
       "      <td>194.0</td>\n",
       "      <td>[['Good food at your doorstep', 'A good hotel ...</td>\n",
       "    </tr>\n",
       "    <tr>\n",
       "      <th>1</th>\n",
       "      <td>id_1535</td>\n",
       "      <td>Stockholm</td>\n",
       "      <td>NaN</td>\n",
       "      <td>1537.0</td>\n",
       "      <td>4.0</td>\n",
       "      <td>NaN</td>\n",
       "      <td>10.0</td>\n",
       "      <td>[['Unique cuisine', 'Delicious Nepalese food']...</td>\n",
       "    </tr>\n",
       "    <tr>\n",
       "      <th>2</th>\n",
       "      <td>id_352</td>\n",
       "      <td>London</td>\n",
       "      <td>['Japanese', 'Sushi', 'Asian', 'Grill', 'Veget...</td>\n",
       "      <td>353.0</td>\n",
       "      <td>4.5</td>\n",
       "      <td>$$$$</td>\n",
       "      <td>688.0</td>\n",
       "      <td>[['Catch up with friends', 'Not exceptional'],...</td>\n",
       "    </tr>\n",
       "    <tr>\n",
       "      <th>3</th>\n",
       "      <td>id_3456</td>\n",
       "      <td>Berlin</td>\n",
       "      <td>NaN</td>\n",
       "      <td>3458.0</td>\n",
       "      <td>5.0</td>\n",
       "      <td>NaN</td>\n",
       "      <td>3.0</td>\n",
       "      <td>[[], []]</td>\n",
       "    </tr>\n",
       "    <tr>\n",
       "      <th>4</th>\n",
       "      <td>id_615</td>\n",
       "      <td>Munich</td>\n",
       "      <td>['German', 'Central European', 'Vegetarian Fri...</td>\n",
       "      <td>621.0</td>\n",
       "      <td>4.0</td>\n",
       "      <td>$$ - $$$</td>\n",
       "      <td>84.0</td>\n",
       "      <td>[['Best place to try a Bavarian food', 'Nice b...</td>\n",
       "    </tr>\n",
       "  </tbody>\n",
       "</table>\n",
       "</div>"
      ],
      "text/plain": [
       "  Restaurant_id       City                                      Cuisine Style  \\\n",
       "0       id_5569      Paris            ['European', 'French', 'International']   \n",
       "1       id_1535  Stockholm                                                NaN   \n",
       "2        id_352     London  ['Japanese', 'Sushi', 'Asian', 'Grill', 'Veget...   \n",
       "3       id_3456     Berlin                                                NaN   \n",
       "4        id_615     Munich  ['German', 'Central European', 'Vegetarian Fri...   \n",
       "\n",
       "   Ranking  Rating Price Range  Number of Reviews  \\\n",
       "0   5570.0     3.5    $$ - $$$              194.0   \n",
       "1   1537.0     4.0         NaN               10.0   \n",
       "2    353.0     4.5        $$$$              688.0   \n",
       "3   3458.0     5.0         NaN                3.0   \n",
       "4    621.0     4.0    $$ - $$$               84.0   \n",
       "\n",
       "                                             Reviews  \n",
       "0  [['Good food at your doorstep', 'A good hotel ...  \n",
       "1  [['Unique cuisine', 'Delicious Nepalese food']...  \n",
       "2  [['Catch up with friends', 'Not exceptional'],...  \n",
       "3                                           [[], []]  \n",
       "4  [['Best place to try a Bavarian food', 'Nice b...  "
      ]
     },
     "execution_count": 3,
     "metadata": {},
     "output_type": "execute_result"
    }
   ],
   "source": [
    "# удалим столбцы, которые точно не понадобятся\n",
    "df=df.drop(['URL_TA','ID_TA'], axis = 1)\n",
    "df.head()"
   ]
  },
  {
   "cell_type": "markdown",
   "metadata": {},
   "source": [
    "# Reviews"
   ]
  },
  {
   "cell_type": "code",
   "execution_count": 4,
   "metadata": {},
   "outputs": [],
   "source": [
    "# заменяем пропуски на 0\n",
    "df['Number of Reviews'] = df['Number of Reviews'].fillna(0)"
   ]
  },
  {
   "cell_type": "code",
   "execution_count": 5,
   "metadata": {},
   "outputs": [
    {
     "data": {
      "text/plain": [
       "1.0    37457\n",
       "0.0     2543\n",
       "Name: ReviewY/N, dtype: int64"
      ]
     },
     "execution_count": 5,
     "metadata": {},
     "output_type": "execute_result"
    }
   ],
   "source": [
    "# признак наличия/отсутствия отзыва\n",
    "\n",
    "def Y_N(row):\n",
    "    if row>0:\n",
    "        row=1\n",
    "    else:\n",
    "        row\n",
    "    return row\n",
    "\n",
    "df['ReviewY/N'] = df['Number of Reviews'].apply(Y_N)\n",
    "df['ReviewY/N'].value_counts()"
   ]
  },
  {
   "cell_type": "code",
   "execution_count": 6,
   "metadata": {},
   "outputs": [],
   "source": [
    "def Review_opt(row):\n",
    "    '''удаляем ненужные символы и формируем список в Rewievs'''\n",
    "    row = row.replace('[[','')\\\n",
    "    .replace(']]','')\\\n",
    "    .split('], [')\n",
    "    return row\n",
    "\n",
    "def date_delta(row):\n",
    "    '''определяем количество дней между отзывами'''\n",
    "    row = row[1][1:-1].split(\"', '\")\n",
    "    if len(row)==2:\n",
    "        row = pd.to_datetime(row)\n",
    "        row = abs((row[0]-row[1]).days)\n",
    "    else:\n",
    "        row = 0\n",
    "    return row\n",
    "\n",
    "def only_dates(row):\n",
    "    '''выведем только даты последних отзывов'''\n",
    "    row = row[1][1:-1].split(\"', '\")\n",
    "    if len(row) > 1:\n",
    "        row = max(pd.to_datetime(row))\n",
    "    else:\n",
    "        row = pd.to_datetime(row)     #row = abs((row[0]-row[1]).days)\n",
    "    \n",
    "    return row"
   ]
  },
  {
   "cell_type": "code",
   "execution_count": 7,
   "metadata": {},
   "outputs": [],
   "source": [
    "rew_opt = df['Reviews'].apply(Review_opt) # оптимизация столбца\n",
    "\n",
    "dates_delta = rew_opt.apply(date_delta) # разница в днях между отзывами\n"
   ]
  },
  {
   "cell_type": "code",
   "execution_count": 8,
   "metadata": {},
   "outputs": [],
   "source": [
    "# скорее всего частота написания отзывов находится в обратной зависимости с рейтингом\n",
    "def revers(x):\n",
    "    if x>0:\n",
    "        x=1/x\n",
    "    else:\n",
    "        x=0\n",
    "    return x\n",
    "\n",
    "df['Review_freq'] = dates_delta.apply(revers)"
   ]
  },
  {
   "cell_type": "code",
   "execution_count": 9,
   "metadata": {},
   "outputs": [],
   "source": [
    "# выведем признак свежести отзыва по сравнению с самым последним в df\n",
    "only_last_dates = rew_opt.apply(only_dates) #только последние даты\n",
    "last_date = only_last_dates.explode().max() # дата последнего отзыва\n",
    "diff_date = only_last_dates.apply(lambda x: (last_date - x).days)\n",
    "\n",
    "def rev(x):\n",
    "    '''обратим число с проверкой по типу'''\n",
    "    if type(x) is int and x!=0:\n",
    "        x = 1/x\n",
    "    else:\n",
    "        x = 0\n",
    "    return x\n",
    "\n",
    "df['Review_last'] = diff_date.apply(lambda x: rev(x))"
   ]
  },
  {
   "cell_type": "code",
   "execution_count": 28,
   "metadata": {},
   "outputs": [
    {
     "data": {
      "text/plain": [
       "Timestamp('2018-02-26 00:00:00')"
      ]
     },
     "execution_count": 28,
     "metadata": {},
     "output_type": "execute_result"
    }
   ],
   "source": [
    "only_last_dates.explode().max()"
   ]
  },
  {
   "cell_type": "markdown",
   "metadata": {},
   "source": [
    "# Cuisine Style"
   ]
  },
  {
   "cell_type": "code",
   "execution_count": 10,
   "metadata": {},
   "outputs": [],
   "source": [
    "# преобразуем данные в список\n",
    "\n",
    "df['Cuisine Style'] = df['Cuisine Style'].dropna().apply(lambda x: x[2:-2].split(\"', '\"))"
   ]
  },
  {
   "cell_type": "code",
   "execution_count": 11,
   "metadata": {},
   "outputs": [
    {
     "data": {
      "text/plain": [
       "Vegetarian Friendly    11.70\n",
       "European               10.52\n",
       "Mediterranean           6.57\n",
       "Italian                 6.24\n",
       "Vegan Options           4.69\n",
       "Gluten Free Options     4.30\n",
       "Bar                     3.45\n",
       "French                  3.34\n",
       "Asian                   3.15\n",
       "Pizza                   2.98\n",
       "Spanish                 2.93\n",
       "Pub                     2.56\n",
       "Cafe                    2.43\n",
       "Fast Food               1.78\n",
       "British                 1.67\n",
       "International           1.66\n",
       "Seafood                 1.57\n",
       "Japanese                1.53\n",
       "Central European        1.46\n",
       "American                1.38\n",
       "Sushi                   1.21\n",
       "Chinese                 1.20\n",
       "Portuguese              1.16\n",
       "Indian                  1.09\n",
       "Middle Eastern          0.82\n",
       "Thai                    0.78\n",
       "Name: Cuisine Style, dtype: float64"
      ]
     },
     "execution_count": 11,
     "metadata": {},
     "output_type": "execute_result"
    }
   ],
   "source": [
    "common_cuisine = df['Cuisine Style'].explode().value_counts(normalize = True).head(26).round(4)*100\n",
    "common_cuisine"
   ]
  },
  {
   "cell_type": "code",
   "execution_count": 12,
   "metadata": {},
   "outputs": [],
   "source": [
    "most_common = ['Vegetarian Friendly','European']\n",
    "\n",
    "def com_not_com(row):\n",
    "    if most_common[0] in row or most_common[1] in row:\n",
    "        row = 1\n",
    "    else:\n",
    "        row = 0\n",
    "    return row"
   ]
  },
  {
   "cell_type": "code",
   "execution_count": 13,
   "metadata": {},
   "outputs": [],
   "source": [
    "# создадим признак количества предлагаемых вариантов кухонь\n",
    "df['Amount_of_Cuisine'] = df['Cuisine Style'].dropna().apply(lambda x: len(x))"
   ]
  },
  {
   "cell_type": "code",
   "execution_count": 14,
   "metadata": {},
   "outputs": [],
   "source": [
    "# найдем срединое количество кухонь в ресторанах по городам\n",
    "Cuisine_median = df.groupby('City')['Amount_of_Cuisine'].median().round()\n"
   ]
  },
  {
   "cell_type": "code",
   "execution_count": 15,
   "metadata": {},
   "outputs": [],
   "source": [
    "# заполним пропуски в соответствии со средним значением по городу\n",
    "def fill_cuisine(row):\n",
    "    \n",
    "    if pd.isna(row.Amount_of_Cuisine) == True:\n",
    "        row.Amount_of_Cuisine = Cuisine_median[row.City]\n",
    "    return row\n",
    "\n",
    "df = df.apply(lambda row: fill_cuisine(row), axis=1)"
   ]
  },
  {
   "cell_type": "code",
   "execution_count": 16,
   "metadata": {},
   "outputs": [],
   "source": [
    "# определим функцию заполнения пропусков  в 'Cuisine Style' наиболее частыми значениями в данном городе  \n",
    "\n",
    "City = df.City.value_counts().index\n",
    "def fill_cuis(row):\n",
    "    if type(row['Cuisine Style']) == float:\n",
    "        s = int(Cuisine_median[row.City])\n",
    "        row['Cuisine Style'] = list(df[df['City'] == row.City]['Cuisine Style'].explode().value_counts().index[:s])\n",
    "    return row"
   ]
  },
  {
   "cell_type": "code",
   "execution_count": 17,
   "metadata": {},
   "outputs": [],
   "source": [
    "df = df.apply(lambda row: fill_cuis(row), axis=1)"
   ]
  },
  {
   "cell_type": "code",
   "execution_count": 18,
   "metadata": {},
   "outputs": [],
   "source": [
    "# признак наличия популярных видов кухонь\n",
    "df['Comm_Cuisine Style'] = df['Cuisine Style'].dropna().apply(com_not_com)"
   ]
  },
  {
   "cell_type": "markdown",
   "metadata": {},
   "source": [
    "# Price Range"
   ]
  },
  {
   "cell_type": "code",
   "execution_count": 19,
   "metadata": {},
   "outputs": [],
   "source": [
    "# замена на числовое выражение вариантов цен (пропуски на среднее значение)\n",
    "Price_int = {'$':1, '$$ - $$$':2,'$$$$':3, np.NaN:2 }\n",
    "df['Price_int'] = df['Price Range'].map(Price_int)"
   ]
  },
  {
   "cell_type": "markdown",
   "metadata": {},
   "source": [
    "# City"
   ]
  },
  {
   "cell_type": "code",
   "execution_count": 20,
   "metadata": {},
   "outputs": [],
   "source": [
    "dummies = pd.get_dummies(df.City)\n",
    "df = pd.concat([df, dummies], axis=1)"
   ]
  },
  {
   "cell_type": "markdown",
   "metadata": {},
   "source": [
    "# ML"
   ]
  },
  {
   "cell_type": "code",
   "execution_count": 21,
   "metadata": {},
   "outputs": [],
   "source": [
    "df_ml = df.drop(['Restaurant_id','City','Cuisine Style','Price Range','Reviews'],axis=1)"
   ]
  },
  {
   "cell_type": "code",
   "execution_count": 22,
   "metadata": {},
   "outputs": [
    {
     "data": {
      "text/html": [
       "<div>\n",
       "<style scoped>\n",
       "    .dataframe tbody tr th:only-of-type {\n",
       "        vertical-align: middle;\n",
       "    }\n",
       "\n",
       "    .dataframe tbody tr th {\n",
       "        vertical-align: top;\n",
       "    }\n",
       "\n",
       "    .dataframe thead th {\n",
       "        text-align: right;\n",
       "    }\n",
       "</style>\n",
       "<table border=\"1\" class=\"dataframe\">\n",
       "  <thead>\n",
       "    <tr style=\"text-align: right;\">\n",
       "      <th></th>\n",
       "      <th>Ranking</th>\n",
       "      <th>Rating</th>\n",
       "      <th>Number of Reviews</th>\n",
       "      <th>ReviewY/N</th>\n",
       "      <th>Review_freq</th>\n",
       "      <th>Review_last</th>\n",
       "      <th>Amount_of_Cuisine</th>\n",
       "      <th>Comm_Cuisine Style</th>\n",
       "      <th>Price_int</th>\n",
       "      <th>Amsterdam</th>\n",
       "      <th>...</th>\n",
       "      <th>Munich</th>\n",
       "      <th>Oporto</th>\n",
       "      <th>Oslo</th>\n",
       "      <th>Paris</th>\n",
       "      <th>Prague</th>\n",
       "      <th>Rome</th>\n",
       "      <th>Stockholm</th>\n",
       "      <th>Vienna</th>\n",
       "      <th>Warsaw</th>\n",
       "      <th>Zurich</th>\n",
       "    </tr>\n",
       "  </thead>\n",
       "  <tbody>\n",
       "    <tr>\n",
       "      <th>0</th>\n",
       "      <td>5570.0</td>\n",
       "      <td>3.5</td>\n",
       "      <td>194.0</td>\n",
       "      <td>1.0</td>\n",
       "      <td>0.024390</td>\n",
       "      <td>0.017544</td>\n",
       "      <td>3.0</td>\n",
       "      <td>1</td>\n",
       "      <td>2</td>\n",
       "      <td>0</td>\n",
       "      <td>...</td>\n",
       "      <td>0</td>\n",
       "      <td>0</td>\n",
       "      <td>0</td>\n",
       "      <td>1</td>\n",
       "      <td>0</td>\n",
       "      <td>0</td>\n",
       "      <td>0</td>\n",
       "      <td>0</td>\n",
       "      <td>0</td>\n",
       "      <td>0</td>\n",
       "    </tr>\n",
       "    <tr>\n",
       "      <th>1</th>\n",
       "      <td>1537.0</td>\n",
       "      <td>4.0</td>\n",
       "      <td>10.0</td>\n",
       "      <td>1.0</td>\n",
       "      <td>0.002618</td>\n",
       "      <td>0.004255</td>\n",
       "      <td>3.0</td>\n",
       "      <td>1</td>\n",
       "      <td>2</td>\n",
       "      <td>0</td>\n",
       "      <td>...</td>\n",
       "      <td>0</td>\n",
       "      <td>0</td>\n",
       "      <td>0</td>\n",
       "      <td>0</td>\n",
       "      <td>0</td>\n",
       "      <td>0</td>\n",
       "      <td>1</td>\n",
       "      <td>0</td>\n",
       "      <td>0</td>\n",
       "      <td>0</td>\n",
       "    </tr>\n",
       "    <tr>\n",
       "      <th>2</th>\n",
       "      <td>353.0</td>\n",
       "      <td>4.5</td>\n",
       "      <td>688.0</td>\n",
       "      <td>1.0</td>\n",
       "      <td>0.500000</td>\n",
       "      <td>0.020408</td>\n",
       "      <td>7.0</td>\n",
       "      <td>1</td>\n",
       "      <td>3</td>\n",
       "      <td>0</td>\n",
       "      <td>...</td>\n",
       "      <td>0</td>\n",
       "      <td>0</td>\n",
       "      <td>0</td>\n",
       "      <td>0</td>\n",
       "      <td>0</td>\n",
       "      <td>0</td>\n",
       "      <td>0</td>\n",
       "      <td>0</td>\n",
       "      <td>0</td>\n",
       "      <td>0</td>\n",
       "    </tr>\n",
       "    <tr>\n",
       "      <th>3</th>\n",
       "      <td>3458.0</td>\n",
       "      <td>5.0</td>\n",
       "      <td>3.0</td>\n",
       "      <td>1.0</td>\n",
       "      <td>0.000000</td>\n",
       "      <td>0.000000</td>\n",
       "      <td>3.0</td>\n",
       "      <td>1</td>\n",
       "      <td>2</td>\n",
       "      <td>0</td>\n",
       "      <td>...</td>\n",
       "      <td>0</td>\n",
       "      <td>0</td>\n",
       "      <td>0</td>\n",
       "      <td>0</td>\n",
       "      <td>0</td>\n",
       "      <td>0</td>\n",
       "      <td>0</td>\n",
       "      <td>0</td>\n",
       "      <td>0</td>\n",
       "      <td>0</td>\n",
       "    </tr>\n",
       "    <tr>\n",
       "      <th>4</th>\n",
       "      <td>621.0</td>\n",
       "      <td>4.0</td>\n",
       "      <td>84.0</td>\n",
       "      <td>1.0</td>\n",
       "      <td>0.003676</td>\n",
       "      <td>0.010000</td>\n",
       "      <td>3.0</td>\n",
       "      <td>1</td>\n",
       "      <td>2</td>\n",
       "      <td>0</td>\n",
       "      <td>...</td>\n",
       "      <td>1</td>\n",
       "      <td>0</td>\n",
       "      <td>0</td>\n",
       "      <td>0</td>\n",
       "      <td>0</td>\n",
       "      <td>0</td>\n",
       "      <td>0</td>\n",
       "      <td>0</td>\n",
       "      <td>0</td>\n",
       "      <td>0</td>\n",
       "    </tr>\n",
       "  </tbody>\n",
       "</table>\n",
       "<p>5 rows × 40 columns</p>\n",
       "</div>"
      ],
      "text/plain": [
       "   Ranking  Rating  Number of Reviews  ReviewY/N  Review_freq  Review_last  \\\n",
       "0   5570.0     3.5              194.0        1.0     0.024390     0.017544   \n",
       "1   1537.0     4.0               10.0        1.0     0.002618     0.004255   \n",
       "2    353.0     4.5              688.0        1.0     0.500000     0.020408   \n",
       "3   3458.0     5.0                3.0        1.0     0.000000     0.000000   \n",
       "4    621.0     4.0               84.0        1.0     0.003676     0.010000   \n",
       "\n",
       "   Amount_of_Cuisine  Comm_Cuisine Style  Price_int  Amsterdam  ...  Munich  \\\n",
       "0                3.0                   1          2          0  ...       0   \n",
       "1                3.0                   1          2          0  ...       0   \n",
       "2                7.0                   1          3          0  ...       0   \n",
       "3                3.0                   1          2          0  ...       0   \n",
       "4                3.0                   1          2          0  ...       1   \n",
       "\n",
       "   Oporto  Oslo  Paris  Prague  Rome  Stockholm  Vienna  Warsaw  Zurich  \n",
       "0       0     0      1       0     0          0       0       0       0  \n",
       "1       0     0      0       0     0          1       0       0       0  \n",
       "2       0     0      0       0     0          0       0       0       0  \n",
       "3       0     0      0       0     0          0       0       0       0  \n",
       "4       0     0      0       0     0          0       0       0       0  \n",
       "\n",
       "[5 rows x 40 columns]"
      ]
     },
     "execution_count": 22,
     "metadata": {},
     "output_type": "execute_result"
    }
   ],
   "source": [
    "df_ml.head()"
   ]
  },
  {
   "cell_type": "code",
   "execution_count": 23,
   "metadata": {},
   "outputs": [],
   "source": [
    "# Разбиваем датафрейм на части, необходимые для обучения и тестирования модели  \n",
    "    # Х - данные с информацией о ресторанах, у - целевая переменная (рейтинги ресторанов)  \n",
    "x = df_ml.drop([ 'Rating'], axis = 1)  \n",
    "y = df_ml['Rating']  \n",
    "      \n",
    "    # Загружаем специальный инструмент для разбивки:  \n",
    "from sklearn.model_selection import train_test_split  \n",
    "      \n",
    "    # Наборы данных с меткой \"train\" будут использоваться для обучения модели, \"test\" - для тестирования.  \n",
    "    # Для тестирования мы будем использовать 25% от исходного датасета.  \n",
    "X_train, X_test, y_train, y_test = train_test_split(x, y, test_size=0.25)"
   ]
  },
  {
   "cell_type": "code",
   "execution_count": 24,
   "metadata": {},
   "outputs": [],
   "source": [
    "# Импортируем необходимые библиотеки:  \n",
    "from sklearn.ensemble import RandomForestRegressor # инструмент для создания и обучения модели  \n",
    "from sklearn import metrics # инструменты для оценки точности модели  \n",
    "      \n",
    "    # Создаём модель  \n",
    "regr = RandomForestRegressor(n_estimators=100)        \n",
    "    # Обучаем модель на тестовом наборе данных  \n",
    "regr.fit(X_train, y_train)  \n",
    "      \n",
    "    # Используем обученную модель для предсказания рейтинга ресторанов в тестовой выборке.  \n",
    "    # Предсказанные значения записываем в переменную y_pred  \n",
    "y_pred = regr.predict(X_test)  "
   ]
  },
  {
   "cell_type": "code",
   "execution_count": 25,
   "metadata": {},
   "outputs": [
    {
     "name": "stdout",
     "output_type": "stream",
     "text": [
      "MAE: 0.21107949999999998\n"
     ]
    }
   ],
   "source": [
    "print('MAE:', metrics.mean_absolute_error(y_test, y_pred))  "
   ]
  }
 ],
 "metadata": {
  "kernelspec": {
   "display_name": "Python 3",
   "language": "python",
   "name": "python3"
  },
  "language_info": {
   "codemirror_mode": {
    "name": "ipython",
    "version": 3
   },
   "file_extension": ".py",
   "mimetype": "text/x-python",
   "name": "python",
   "nbconvert_exporter": "python",
   "pygments_lexer": "ipython3",
   "version": "3.7.6"
  }
 },
 "nbformat": 4,
 "nbformat_minor": 4
}
